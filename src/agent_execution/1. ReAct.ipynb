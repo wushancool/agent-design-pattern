{
 "cells": [
  {
   "cell_type": "markdown",
   "id": "21a88e56",
   "metadata": {},
   "source": [
    "# ReAct: Synergizing Reasoning and Acting in Language Models"
   ]
  },
  {
   "cell_type": "code",
   "execution_count": 2,
   "id": "4ace5173",
   "metadata": {},
   "outputs": [
    {
     "name": "stdout",
     "output_type": "stream",
     "text": [
      "/Users/dave/projects/agent-design-pattern/src/utils\n"
     ]
    }
   ],
   "source": [
    "from setup import add_tool_path\n",
    "add_tool_path()\n",
    "\n",
    "from tools import get_filesystem_tools\n",
    "from google.adk.agents.llm_agent import LlmAgent\n"
   ]
  }
 ],
 "metadata": {
  "kernelspec": {
   "display_name": ".venv",
   "language": "python",
   "name": "python3"
  },
  "language_info": {
   "codemirror_mode": {
    "name": "ipython",
    "version": 3
   },
   "file_extension": ".py",
   "mimetype": "text/x-python",
   "name": "python",
   "nbconvert_exporter": "python",
   "pygments_lexer": "ipython3",
   "version": "3.11.12"
  }
 },
 "nbformat": 4,
 "nbformat_minor": 5
}
